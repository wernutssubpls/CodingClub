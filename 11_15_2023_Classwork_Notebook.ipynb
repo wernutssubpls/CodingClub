{
  "nbformat": 4,
  "nbformat_minor": 0,
  "metadata": {
    "colab": {
      "provenance": [],
      "collapsed_sections": [
        "nlLXEG6dOMnH"
      ],
      "include_colab_link": true
    },
    "kernelspec": {
      "name": "python3",
      "display_name": "Python 3"
    },
    "language_info": {
      "name": "python"
    }
  },
  "cells": [
    {
      "cell_type": "markdown",
      "metadata": {
        "id": "view-in-github",
        "colab_type": "text"
      },
      "source": [
        "<a href=\"https://colab.research.google.com/github/wernutssubpls/CodingClub/blob/main/11_15_2023_Classwork_Notebook.ipynb\" target=\"_parent\"><img src=\"https://colab.research.google.com/assets/colab-badge.svg\" alt=\"Open In Colab\"/></a>"
      ]
    },
    {
      "cell_type": "markdown",
      "source": [
        "**Week of 11.15.2023: Tuples and Dictionaries**\n",
        "---\n",
        "\n",
        "<br>\n",
        "\n",
        "<br>\n",
        "\n",
        "### **Learning Objectives**\n",
        "By the end of this lab, we will:\n",
        "* Check what datatype a value is\n",
        "* Cast or change the datatype for a value\n",
        "* Take the input from a user\n",
        "* How to create a list\n",
        "* How to select a certain element from a list\n"
      ],
      "metadata": {
        "id": "K3JVwUgVElwe"
      }
    },
    {
      "cell_type": "markdown",
      "source": [
        "<a name=\"p1\"></a>\n",
        "\n",
        "---\n",
        "## **Part 1: Tuples**\n",
        "---"
      ],
      "metadata": {
        "id": "vFusVI8O6sd-"
      }
    },
    {
      "cell_type": "markdown",
      "source": [
        "#### **Problem #1.1**\n",
        "\n",
        "**Together**, create a tuple!"
      ],
      "metadata": {
        "id": "4EgRMGgY7J-X"
      }
    },
    {
      "cell_type": "code",
      "source": [],
      "metadata": {
        "id": "T8xD_JEjY5yf"
      },
      "execution_count": null,
      "outputs": []
    },
    {
      "cell_type": "markdown",
      "source": [
        "#### **Problem #1.2**\n",
        "\n",
        "**Independently**, create a tuple showing the first 10 whole numbers and access the first item."
      ],
      "metadata": {
        "id": "0m36jq9PY4uY"
      }
    },
    {
      "cell_type": "code",
      "source": [],
      "metadata": {
        "id": "m2RLNjUkU4iW"
      },
      "execution_count": null,
      "outputs": []
    },
    {
      "cell_type": "markdown",
      "source": [
        "#### **Problem #1.3**\n",
        "\n",
        "**Together**, let's try to run this code!"
      ],
      "metadata": {
        "id": "PAkOUDniU3vj"
      }
    },
    {
      "cell_type": "code",
      "source": [
        "lwsd_middle_schools= (\"evergreen\", \"inglewood\", \"kamiakin\")\n",
        "lwsd_middle_schools.append(\"finn hill\")"
      ],
      "metadata": {
        "id": "Gxm7jMAKYzz7",
        "colab": {
          "base_uri": "https://localhost:8080/",
          "height": 193
        },
        "outputId": "39b07186-77f5-462b-9959-b20e9bf9c19f"
      },
      "execution_count": null,
      "outputs": [
        {
          "output_type": "error",
          "ename": "AttributeError",
          "evalue": "ignored",
          "traceback": [
            "\u001b[0;31m---------------------------------------------------------------------------\u001b[0m",
            "\u001b[0;31mAttributeError\u001b[0m                            Traceback (most recent call last)",
            "\u001b[0;32m<ipython-input-1-1e266fdb5afd>\u001b[0m in \u001b[0;36m<cell line: 2>\u001b[0;34m()\u001b[0m\n\u001b[1;32m      1\u001b[0m \u001b[0mlwsd_middle_schools\u001b[0m\u001b[0;34m=\u001b[0m \u001b[0;34m(\u001b[0m\u001b[0;34m\"evergreen\"\u001b[0m\u001b[0;34m,\u001b[0m \u001b[0;34m\"inglewood\"\u001b[0m\u001b[0;34m,\u001b[0m \u001b[0;34m\"kamiakin\"\u001b[0m\u001b[0;34m)\u001b[0m\u001b[0;34m\u001b[0m\u001b[0;34m\u001b[0m\u001b[0m\n\u001b[0;32m----> 2\u001b[0;31m \u001b[0mlwsd_middle_schools\u001b[0m\u001b[0;34m.\u001b[0m\u001b[0mappend\u001b[0m\u001b[0;34m(\u001b[0m\u001b[0;34m\"finn hill\"\u001b[0m\u001b[0;34m)\u001b[0m\u001b[0;34m\u001b[0m\u001b[0;34m\u001b[0m\u001b[0m\n\u001b[0m",
            "\u001b[0;31mAttributeError\u001b[0m: 'tuple' object has no attribute 'append'"
          ]
        }
      ]
    },
    {
      "cell_type": "markdown",
      "source": [
        "<a name=\"p1\"></a>\n",
        "\n",
        "---\n",
        "## **Part 2: Dictionaries**\n",
        "---"
      ],
      "metadata": {
        "id": "nlLXEG6dOMnH"
      }
    },
    {
      "cell_type": "markdown",
      "source": [
        "#### **Problem #2.1**\n",
        "\n",
        "**Together**, let's create a dictionary of people's Elementary Schools."
      ],
      "metadata": {
        "id": "fW0v28kFPKJI"
      }
    },
    {
      "cell_type": "code",
      "source": [],
      "metadata": {
        "id": "aKfg9lCLZJzy"
      },
      "execution_count": null,
      "outputs": []
    },
    {
      "cell_type": "markdown",
      "source": [
        "#### **Problem #2.2**\n",
        "\n",
        "**Independently**,  create an dictionary about people's favorite classes in school."
      ],
      "metadata": {
        "id": "3ibIHkdzZ_RY"
      }
    },
    {
      "cell_type": "code",
      "source": [],
      "metadata": {
        "id": "y4bYp0JCROef"
      },
      "execution_count": null,
      "outputs": []
    },
    {
      "cell_type": "markdown",
      "source": [
        "#### **Problem #2.3**\n",
        "\n",
        "**Together**, let's create access a value in the dictionary created in problem 2.1."
      ],
      "metadata": {
        "id": "8qCgk37IZJgf"
      }
    },
    {
      "cell_type": "code",
      "source": [],
      "metadata": {
        "id": "XMpr-2RcZJgf"
      },
      "execution_count": null,
      "outputs": []
    },
    {
      "cell_type": "markdown",
      "source": [
        "#### **Problem #2.4**\n",
        "\n",
        "**Independently**, let's create access a value in the dictionary you created in problem 2.2."
      ],
      "metadata": {
        "id": "4o1zR2Z8ZJgg"
      }
    },
    {
      "cell_type": "code",
      "source": [],
      "metadata": {
        "id": "txjJlTALpshm"
      },
      "execution_count": null,
      "outputs": []
    },
    {
      "cell_type": "markdown",
      "source": [
        "#### **Problem #2.5**\n",
        "\n",
        "**Together**, let's create add a value in the dictionary created in problem 2.1."
      ],
      "metadata": {
        "id": "tMdTgeCUprx6"
      }
    },
    {
      "cell_type": "code",
      "source": [],
      "metadata": {
        "id": "SFBuY20wqxS-"
      },
      "execution_count": null,
      "outputs": []
    },
    {
      "cell_type": "markdown",
      "source": [
        "#### **Problem #2.6**\n",
        "\n",
        "**Independently**, let's modify add the last value in the dictionary created in problem 2.1."
      ],
      "metadata": {
        "id": "C2VMVNJfqwv-"
      }
    },
    {
      "cell_type": "code",
      "source": [],
      "metadata": {
        "id": "tEiqCJZaq6i6"
      },
      "execution_count": null,
      "outputs": []
    },
    {
      "cell_type": "markdown",
      "source": [
        "#### **Problem #2.6**\n",
        "\n",
        "**Independently**, let's modify add the last value in the dictionary created in problem 2.1."
      ],
      "metadata": {
        "id": "CNSGU9yJq4rK"
      }
    },
    {
      "cell_type": "code",
      "source": [],
      "metadata": {
        "id": "FFwafcDHrLBK"
      },
      "execution_count": null,
      "outputs": []
    },
    {
      "cell_type": "markdown",
      "source": [
        "#### **Problem #2.7**\n",
        "\n",
        "**Independently**, let's remove add the first value in the dictionary created in problem 2.1."
      ],
      "metadata": {
        "id": "qlFz5WGGrIV7"
      }
    },
    {
      "cell_type": "code",
      "source": [],
      "metadata": {
        "id": "NBuMx9ksZJgg"
      },
      "execution_count": null,
      "outputs": []
    }
  ]
}